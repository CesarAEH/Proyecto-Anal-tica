{
 "cells": [
  {
   "cell_type": "code",
   "execution_count": 1,
   "metadata": {},
   "outputs": [
    {
     "name": "stdout",
     "output_type": "stream",
     "text": [
      "<class 'pandas.core.frame.DataFrame'>\n",
      "RangeIndex: 8939 entries, 0 to 8938\n",
      "Data columns (total 49 columns):\n",
      " #   Column              Non-Null Count  Dtype  \n",
      "---  ------              --------------  -----  \n",
      " 0   id                  8939 non-null   int64  \n",
      " 1   category            8939 non-null   object \n",
      " 2   title               8939 non-null   object \n",
      " 3   body                8939 non-null   object \n",
      " 4   amenities           6001 non-null   object \n",
      " 5   bathrooms           8939 non-null   float64\n",
      " 6   bedrooms            8939 non-null   int64  \n",
      " 7   currency            8939 non-null   object \n",
      " 8   fee                 8939 non-null   object \n",
      " 9   has_photo           8939 non-null   object \n",
      " 10  pets_allowed        8939 non-null   object \n",
      " 11  price               8939 non-null   int64  \n",
      " 12  price_display       8939 non-null   object \n",
      " 13  price_type          8939 non-null   object \n",
      " 14  square_feet         8939 non-null   int64  \n",
      " 15  address             5803 non-null   object \n",
      " 16  cityname            8939 non-null   object \n",
      " 17  state               8939 non-null   object \n",
      " 18  latitude            8939 non-null   float64\n",
      " 19  longitude           8939 non-null   float64\n",
      " 20  source              8939 non-null   object \n",
      " 21  time                8939 non-null   int64  \n",
      " 22  AC                  8939 non-null   int64  \n",
      " 23  Alarm               8939 non-null   int64  \n",
      " 24  Basketball          8939 non-null   int64  \n",
      " 25  Cable or Satellite  8939 non-null   int64  \n",
      " 26  Clubhouse           8939 non-null   int64  \n",
      " 27  Dishwasher          8939 non-null   int64  \n",
      " 28  Doorman             8939 non-null   int64  \n",
      " 29  Elevator            8939 non-null   int64  \n",
      " 30  Fireplace           8939 non-null   int64  \n",
      " 31  Garbage Disposal    8939 non-null   int64  \n",
      " 32  Gated               8939 non-null   int64  \n",
      " 33  Golf                8939 non-null   int64  \n",
      " 34  Gym                 8939 non-null   int64  \n",
      " 35  Hot Tub             8939 non-null   int64  \n",
      " 36  Internet Access     8939 non-null   int64  \n",
      " 37  Luxury              8939 non-null   int64  \n",
      " 38  Parking             8939 non-null   int64  \n",
      " 39  Patio/Deck          8939 non-null   int64  \n",
      " 40  Playground          8939 non-null   int64  \n",
      " 41  Pool                8939 non-null   int64  \n",
      " 42  Refrigerator        8939 non-null   int64  \n",
      " 43  Storage             8939 non-null   int64  \n",
      " 44  TV                  8939 non-null   int64  \n",
      " 45  Tennis              8939 non-null   int64  \n",
      " 46  View                8939 non-null   int64  \n",
      " 47  Washer Dryer        8939 non-null   int64  \n",
      " 48  Wood Floors         8939 non-null   int64  \n",
      "dtypes: float64(3), int64(32), object(14)\n",
      "memory usage: 3.3+ MB\n",
      "None\n",
      "           id                category  \\\n",
      "0  5668626895  housing/rent/apartment   \n",
      "1  5664597177  housing/rent/apartment   \n",
      "2  5668626833  housing/rent/apartment   \n",
      "3  5659918074  housing/rent/apartment   \n",
      "4  5668626759  housing/rent/apartment   \n",
      "\n",
      "                                               title  \\\n",
      "0  Studio apartment 2nd St NE, Uhland Terrace NE,...   \n",
      "1                  Studio apartment 814 Schutte Road   \n",
      "2  Studio apartment N Scott St, 14th St N, Arling...   \n",
      "3                     Studio apartment 1717 12th Ave   \n",
      "4  Studio apartment Washington Blvd, N Cleveland ...   \n",
      "\n",
      "                                                body amenities  bathrooms  \\\n",
      "0  This unit is located at second St NE, Uhland T...       NaN        1.0   \n",
      "1  This unit is located at 814 Schutte Road, Evan...       NaN        1.0   \n",
      "2  This unit is located at N Scott St, 14th St N,...       NaN        1.0   \n",
      "3  This unit is located at 1717 12th Ave, Seattle...       NaN        1.0   \n",
      "4  This unit is located at Washington Blvd, N Cle...       NaN        1.0   \n",
      "\n",
      "   bedrooms currency fee  has_photo  ... Patio/Deck  Playground Pool  \\\n",
      "0         0      USD  No  Thumbnail  ...          0           0    0   \n",
      "1         1      USD  No  Thumbnail  ...          0           0    0   \n",
      "2         0      USD  No  Thumbnail  ...          0           0    0   \n",
      "3         0      USD  No  Thumbnail  ...          0           0    0   \n",
      "4         0      USD  No  Thumbnail  ...          0           0    0   \n",
      "\n",
      "  Refrigerator  Storage TV Tennis View  Washer Dryer  Wood Floors  \n",
      "0            0        0  0      0    0             0            0  \n",
      "1            0        0  0      0    0             0            0  \n",
      "2            0        0  0      0    0             0            0  \n",
      "3            0        0  0      0    0             0            0  \n",
      "4            0        0  0      0    0             0            0  \n",
      "\n",
      "[5 rows x 49 columns]\n"
     ]
    }
   ],
   "source": [
    "#Tarea4\n",
    "import pandas as pd\n",
    "import numpy as np\n",
    "\n",
    "df4 = pd.read_excel(\"datosfinalesapartamentos.xlsx\")  \n",
    "\n",
    "\n",
    "print(df4.info())\n",
    "print(df4.head())\n",
    "\n",
    "\n"
   ]
  },
  {
   "cell_type": "code",
   "execution_count": 2,
   "metadata": {},
   "outputs": [],
   "source": [
    "\n",
    "#Division datos prueba \n",
    "from sklearn.model_selection import train_test_split\n",
    "\n",
    "y = df4[\"price\"]  # La columna 'price' es nuestra salida\n",
    "\n",
    "# Variables predictoras (las usamos para predecir)\n",
    "X = df4[[\"square_feet\"]]  # Solo usamos 'square_feet' por ahora\n",
    "\n",
    "X_train, X_test, y_train, y_test = train_test_split(X, y, test_size=0.2, random_state=1)\n"
   ]
  },
  {
   "cell_type": "code",
   "execution_count": 3,
   "metadata": {},
   "outputs": [
    {
     "name": "stdout",
     "output_type": "stream",
     "text": [
      "842.5872365408461\n",
      "[0.53547505]\n",
      "MAE: 361.8411129758515\n",
      "MSE: 210989.2617431468\n",
      "R² Score: 0.10324826826611178\n"
     ]
    }
   ],
   "source": [
    "#Regresion\n",
    "from sklearn.linear_model import LinearRegression\n",
    "from sklearn.metrics import mean_absolute_error, mean_squared_error, r2_score\n",
    "\n",
    "model_lr = LinearRegression()\n",
    "model_lr.fit(X_train, y_train)\n",
    "\n",
    "y_pred = model_lr.predict(X_test)\n",
    "print(model_lr.intercept_)\n",
    "print(model_lr.coef_)\n",
    "\n",
    "print(\"MAE:\", mean_absolute_error(y_test, y_pred))\n",
    "print(\"MSE:\", mean_squared_error(y_test, y_pred))\n",
    "print(\"R² Score:\", r2_score(y_test, y_pred))\n",
    "\n",
    "\n"
   ]
  },
  {
   "cell_type": "code",
   "execution_count": 4,
   "metadata": {},
   "outputs": [
    {
     "name": "stdout",
     "output_type": "stream",
     "text": [
      "803.0182631538107\n",
      "[  0.42452999 -17.04715817 124.72678299]\n",
      "MAE: 361.34347448114255\n",
      "MSE: 209576.30270685809\n",
      "R² Score: 0.10925366139461834\n"
     ]
    }
   ],
   "source": [
    "#Otro modelo\n",
    "#Division datos prueba \n",
    "from sklearn.model_selection import train_test_split\n",
    "\n",
    "y = df4[\"price\"]  # La columna 'price' es nuestra salida\n",
    "\n",
    "# Variables predictoras (las usamos para predecir)\n",
    "X = df4[[\"square_feet\", \"bedrooms\", \"bathrooms\"]]\n",
    "\n",
    "X_train, X_test, y_train, y_test = train_test_split(X, y, test_size=0.2, random_state=1)\n",
    "from sklearn.linear_model import LinearRegression\n",
    "from sklearn.metrics import mean_absolute_error, mean_squared_error, r2_score\n",
    "\n",
    "model_lr = LinearRegression()\n",
    "model_lr.fit(X_train, y_train)\n",
    "\n",
    "y_pred = model_lr.predict(X_test)\n",
    "print(model_lr.intercept_)\n",
    "print(model_lr.coef_)\n",
    "\n",
    "print(\"MAE:\", mean_absolute_error(y_test, y_pred))\n",
    "print(\"MSE:\", mean_squared_error(y_test, y_pred))\n",
    "print(\"R² Score:\", r2_score(y_test, y_pred))\n"
   ]
  },
  {
   "cell_type": "code",
   "execution_count": 5,
   "metadata": {},
   "outputs": [
    {
     "name": "stdout",
     "output_type": "stream",
     "text": [
      "  pets_allowed  pets_allowed_Cats  pets_allowed_Dogs\n",
      "0    Cats,Dogs                  1                  1\n",
      "1    Cats,Dogs                  1                  1\n",
      "2    Cats,Dogs                  1                  1\n",
      "3    Cats,Dogs                  1                  1\n",
      "4    Cats,Dogs                  1                  1\n"
     ]
    }
   ],
   "source": [
    "# Crear nuevas columnas indicando si se permiten gatos o perros\n",
    "df4[\"pets_allowed_Cats\"] = df4[\"pets_allowed\"].apply(lambda x: 1 if \"Cats\" in x else 0)\n",
    "df4[\"pets_allowed_Dogs\"] = df4[\"pets_allowed\"].apply(lambda x: 1 if \"Dogs\" in x else 0)\n",
    "\n",
    "# Verificar la transformación\n",
    "print(df4[[\"pets_allowed\", \"pets_allowed_Cats\", \"pets_allowed_Dogs\"]].head())\n"
   ]
  },
  {
   "cell_type": "code",
   "execution_count": 6,
   "metadata": {},
   "outputs": [
    {
     "name": "stdout",
     "output_type": "stream",
     "text": [
      "           id                category  \\\n",
      "0  5668626895  housing/rent/apartment   \n",
      "1  5664597177  housing/rent/apartment   \n",
      "2  5668626833  housing/rent/apartment   \n",
      "3  5659918074  housing/rent/apartment   \n",
      "4  5668626759  housing/rent/apartment   \n",
      "\n",
      "                                               title  \\\n",
      "0  Studio apartment 2nd St NE, Uhland Terrace NE,...   \n",
      "1                  Studio apartment 814 Schutte Road   \n",
      "2  Studio apartment N Scott St, 14th St N, Arling...   \n",
      "3                     Studio apartment 1717 12th Ave   \n",
      "4  Studio apartment Washington Blvd, N Cleveland ...   \n",
      "\n",
      "                                                body amenities  bathrooms  \\\n",
      "0  This unit is located at second St NE, Uhland T...       NaN        1.0   \n",
      "1  This unit is located at 814 Schutte Road, Evan...       NaN        1.0   \n",
      "2  This unit is located at N Scott St, 14th St N,...       NaN        1.0   \n",
      "3  This unit is located at 1717 12th Ave, Seattle...       NaN        1.0   \n",
      "4  This unit is located at Washington Blvd, N Cle...       NaN        1.0   \n",
      "\n",
      "   bedrooms currency fee  has_photo  ... Pool  Refrigerator Storage TV  \\\n",
      "0         0      USD  No  Thumbnail  ...    0             0       0  0   \n",
      "1         1      USD  No  Thumbnail  ...    0             0       0  0   \n",
      "2         0      USD  No  Thumbnail  ...    0             0       0  0   \n",
      "3         0      USD  No  Thumbnail  ...    0             0       0  0   \n",
      "4         0      USD  No  Thumbnail  ...    0             0       0  0   \n",
      "\n",
      "   Tennis View Washer Dryer Wood Floors  pets_allowed_Cats  pets_allowed_Dogs  \n",
      "0       0    0            0           0                  1                  1  \n",
      "1       0    0            0           0                  1                  1  \n",
      "2       0    0            0           0                  1                  1  \n",
      "3       0    0            0           0                  1                  1  \n",
      "4       0    0            0           0                  1                  1  \n",
      "\n",
      "[5 rows x 51 columns]\n"
     ]
    }
   ],
   "source": [
    "print(df4.head())"
   ]
  }
 ],
 "metadata": {
  "kernelspec": {
   "display_name": "Python 3",
   "language": "python",
   "name": "python3"
  },
  "language_info": {
   "codemirror_mode": {
    "name": "ipython",
    "version": 3
   },
   "file_extension": ".py",
   "mimetype": "text/x-python",
   "name": "python",
   "nbconvert_exporter": "python",
   "pygments_lexer": "ipython3",
   "version": "3.11.9"
  }
 },
 "nbformat": 4,
 "nbformat_minor": 2
}
